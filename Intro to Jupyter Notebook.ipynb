{
 "cells": [
  {
   "cell_type": "markdown",
   "id": "opposite-cycle",
   "metadata": {},
   "source": [
    "### Below is a code cell"
   ]
  },
  {
   "cell_type": "code",
   "execution_count": 4,
   "id": "final-coordinate",
   "metadata": {},
   "outputs": [
    {
     "data": {
      "text/plain": [
       "8"
      ]
     },
     "execution_count": 4,
     "metadata": {},
     "output_type": "execute_result"
    }
   ],
   "source": [
    "5 + 3"
   ]
  },
  {
   "cell_type": "markdown",
   "id": "cheap-century",
   "metadata": {},
   "source": [
    "### Below is a markdown cell"
   ]
  },
  {
   "cell_type": "markdown",
   "id": "ethical-penny",
   "metadata": {},
   "source": [
    "#### Command mode: Big picture shortcuts\n",
    "Edit mode: Make changes to a cell\n",
    "\n",
    "press H for keyboard shortcuts in command mode\n",
    "\n",
    "Control enter: run current cell\n",
    "Shift enter: run current cell, go to next cell\n",
    "\n",
    "Output of a cell always be the last line processed by python"
   ]
  },
  {
   "cell_type": "markdown",
   "id": "affecting-caution",
   "metadata": {},
   "source": [
    "### Importing libraries into jupyter notebook"
   ]
  },
  {
   "cell_type": "code",
   "execution_count": 11,
   "id": "attached-upgrade",
   "metadata": {},
   "outputs": [],
   "source": [
    "import pandas as pd\n",
    "import numpy as np\n",
    "from plotly import express as px"
   ]
  },
  {
   "cell_type": "code",
   "execution_count": 12,
   "id": "restricted-edition",
   "metadata": {},
   "outputs": [
    {
     "data": {
      "text/plain": [
       "'1.2.3'"
      ]
     },
     "execution_count": 12,
     "metadata": {},
     "output_type": "execute_result"
    }
   ],
   "source": [
    "big_mac_df = pd.read_csv(\"pandas/bigmac.csv\")\n",
    "pd.__version__"
   ]
  },
  {
   "cell_type": "code",
   "execution_count": null,
   "id": "liquid-admission",
   "metadata": {},
   "outputs": [],
   "source": [
    "big_mac_df"
   ]
  }
 ],
 "metadata": {
  "kernelspec": {
   "display_name": "Python 3",
   "language": "python",
   "name": "python3"
  },
  "language_info": {
   "codemirror_mode": {
    "name": "ipython",
    "version": 3
   },
   "file_extension": ".py",
   "mimetype": "text/x-python",
   "name": "python",
   "nbconvert_exporter": "python",
   "pygments_lexer": "ipython3",
   "version": "3.9.2"
  }
 },
 "nbformat": 4,
 "nbformat_minor": 5
}
